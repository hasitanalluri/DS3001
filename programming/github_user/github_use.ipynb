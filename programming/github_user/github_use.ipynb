{
 "cells": [
  {
   "cell_type": "markdown",
   "id": "95fecda4-4edc-487d-8121-b3aa587910fd",
   "metadata": {},
   "source": [
    "# GitHub, `push`, and Rivanna\n",
    "\n",
    "`! git clone https://github.com/DS3001/github_intro`"
   ]
  },
  {
   "cell_type": "markdown",
   "id": "68bda9cc-3164-4e9c-bcbc-aac6ca0adbb6",
   "metadata": {},
   "source": [
    "## More Git & GitHub\n",
    "- These notes cover how to get content back from a Jupyter notebook to GitHub\n",
    "- We're not assuming that you have VS Code, but you can log into GitHub from VS Code and then everything becomes trivial\n",
    "- We'll cover more advanced things like branching and merging when we start doing group work\n",
    "- There is always more Git to learn"
   ]
  },
  {
   "cell_type": "markdown",
   "id": "da37a4fa-02e3-4e99-a3af-ce2aba1546cd",
   "metadata": {},
   "source": [
    "## GitHub Repositories\n",
    "- A Git repository or **repo** is a directory, like any directory on your computer\n",
    "- It is special because someone has initialized a software called **Git** that performs sophisticated version control tracking on the directory\n",
    "- It is not like Dropbox or Box: You have to interact with Git directly\n",
    "- It is a very powerful tool, and Git is not GitHub: GitHub is a popular service that hosts Git repos, so that anyone can make copies or contribute to them"
   ]
  },
  {
   "cell_type": "markdown",
   "id": "ae7bb04a-f74a-4c64-b5d3-ce2e2974fdba",
   "metadata": {},
   "source": [
    "## Bash commands\n",
    "- What is happening when we clone a repo? This line\n",
    "\n",
    "`! git clone https://github.com/ds4e/intro`\n",
    "\n",
    "has the `!` symbol, which escapes from Python/Jupyter directly to the command line for the Linux virtual machine you're using\n",
    "\n",
    "- For example, if you type `pwd` inside Jupyter, it tells you the present working directory. If you type `! pwd`, you escape to Bash, the \"Born Again SHell\", and get the same output, but from Linux and not Python.\n",
    "- When we `! git ...`, we are interacting with Git directly"
   ]
  },
  {
   "cell_type": "markdown",
   "id": "17861085-805d-41f1-8f69-cb6ebf131594",
   "metadata": {},
   "source": [
    "## GitHub Personal Access Tokens\n",
    "- A **Personal Access Token (PAT)** grants you the rights to clone a private repo and push work back to public or private repos\n",
    "- Let's make a PAT now on GitHub\n",
    "- Click your icon in the upper-right corner, `Settings`\n",
    "![GitHub](./src/settings.png)\n",
    "-   Scroll all the way down to `<> Developer Settings` on the left, then \"Personal Access Tokens\"\n",
    "![GitHub](./src/settings_dev.png)\n",
    "- Create a classic access token, not fine-grained, unless you are working on a specific project\n",
    "![GitHub](./src/settings_dev_pat.png)"
   ]
  },
  {
   "cell_type": "markdown",
   "id": "764ca1cf-d4c1-4db5-8a9c-f3de76712ecf",
   "metadata": {},
   "source": [
    "## PAT's\n",
    "- This is your \"password\" for editing files on GitHub\n",
    "- Once you navigate away from that window, you can never see your PAT again...\n",
    "- ...but they are free, you can make a new one on GitHub whenever you want\n",
    "- I copy it into a text file and paste it into Git commands whenever I need it, thereby totally undermining the security of the system!"
   ]
  },
  {
   "cell_type": "markdown",
   "id": "3af277ac",
   "metadata": {},
   "source": []
  },
  {
   "cell_type": "markdown",
   "id": "cd20bdd3",
   "metadata": {},
   "source": []
  },
  {
   "cell_type": "markdown",
   "id": "c1e2d6a9",
   "metadata": {},
   "source": []
  },
  {
   "cell_type": "markdown",
   "id": "d30a024c-3d0f-4d60-a219-2d45c01e9991",
   "metadata": {},
   "source": [
    "## 0. Creating a Private Repo, Cloning to Rivanna\n",
    "- If you are going to work on GitHub, it is \"easiest\" to initialize your repos there. Create the repo and upload some files you've started working on.\n",
    "- Everyone can see and clone public repos, but private repos are visible only to you.\n",
    "- You can turn any directory on your computer you like into a Git repo by using `! git init`, but getting that repo onto GitHub then requires replicating some of these steps anyway\n",
    "- To clone a private repo to Rivanna (or anywhere), you use the Git command from any Jupyter notebook:\n",
    "  - `! git clone https://<Username>:<PAT>@github.com/<Username>/<Repo name>`"
   ]
  },
  {
   "cell_type": "markdown",
   "id": "6e2f2285-47b1-4bb7-8b56-1d6de2491f87",
   "metadata": {},
   "source": [
    "## 1. Working on a Repo\n",
    "- When you make a **commit**, you take a snapshot of the repo and store it; subsequent changes then need a new `commit` to snapshot the repo again\n",
    "- Commit early and often, it is very low cost\n",
    "- To make a commit from Jupyter, you type `! git commit -am <Commit Message>`. Your commit message should be short, useful to your future self and coworkers, and the message appears in a log of changes\n",
    "- To see the log, type `! git log`\n",
    "- Let's edit a file and make a commit"
   ]
  },
  {
   "cell_type": "markdown",
   "id": "d4749734-a907-4c47-9afc-b12f7aac60dd",
   "metadata": {},
   "source": [
    "## Commit fatigue\n",
    "\n",
    "![Git jokes!](./src/git_joke_1.png)"
   ]
  },
  {
   "cell_type": "markdown",
   "id": "4cf0df4e-3590-4002-a56a-cc3efd4ec7f8",
   "metadata": {},
   "source": [
    "## How does Git work?\n",
    "- Whenever you make a `commit`, it saves a complete snapshot of the repo in a clever way, storing the changes between the current repo and past commits, called a `diff`\n",
    "- A repo might not look like it, but it stores every committed version of the project ever. It is an entirely complete archive.\n",
    "- As you work on your project, making `commit`s as you go, it updates the snapshots, so you can take risks, knowing that you can go back"
   ]
  },
  {
   "cell_type": "markdown",
   "id": "d38ad98a-7736-4ff4-a782-659c9e53dd15",
   "metadata": {},
   "source": [
    "## 2. Working on a Repo\n",
    "- Git only tracks the files you tell it to track -- this is a really helpful feature of it\n",
    "  - To add a new file, type `! git add <filename>`\n",
    "  - To remove a file, type `! git rm <filename>`\n",
    "- To see what files Git is tracking, type `! git ls-files`. This is an important command if you need to diagnose why your changes aren't making it back to GitHub"
   ]
  },
  {
   "cell_type": "markdown",
   "id": "67d1ab91-f0eb-4e70-b1f4-d5f6bca08d91",
   "metadata": {},
   "source": [
    "## 3. Pushing Work Back to GitHub\n",
    "- OK, make sure you've added all your files and committed all your desired changes\n",
    "- On Rivanna, I create a new .ipynb file inside the repo that is not added by Git to the repo to do this step\n",
    "- Here is how to push a repo back to GitHub:\n",
    "  - `! git push https://<Username>:<PAT>@github.com/<Username>/<Repo name>`\n",
    "- Again, you need your PAT to ensure GitHub that you're who you say you are, and are allowed to do this"
   ]
  },
  {
   "cell_type": "markdown",
   "id": "9d164923-360e-44c0-a19b-fbd81dff48d5",
   "metadata": {},
   "source": [
    "## 4. Continued Work on a Repo: `Pull` and `Fetch`\n",
    "- The `clone` command tries to create a new repo, and if one already exists with that name, you can't easily overwrite it\n",
    "- Instead, you can\n",
    "\n",
    "`! git pull https://<Username>:<PAT>@github.com/<Username>/<Repo name>` \n",
    "\n",
    "to update your local copy with the most recent changes on GitHub, do your work and make `commit`s and `add`s as necessary, and `push` changes back"
   ]
  },
  {
   "cell_type": "markdown",
   "id": "6e093876",
   "metadata": {},
   "source": [
    "## Private Repos\n",
    "- Two things are true: \n",
    "    1. The Internet is vast and no one case what you are doing\n",
    "    2. Sometimes you want more privacy about what you are doing\n",
    "- You can change the visibility of a repo to `private`, so only collaborators can see it\n",
    "- This can greatly complicate the day-to-day use of the repo, since you have to provide tokens to access it all the time\n",
    "- But you know how to do it now: Just use the same `<username>:<PAT>@` construction in your Git commands to identify yourself to GitHub"
   ]
  },
  {
   "cell_type": "markdown",
   "id": "38eb5777",
   "metadata": {},
   "source": [
    "## 2FA, etc.\n",
    "- GitHub has introduced two-factor authentication, which I think is a tedious nightmare"
   ]
  },
  {
   "cell_type": "markdown",
   "id": "bc56f1a9-762c-4c20-8db6-cd110b5d732d",
   "metadata": {},
   "source": [
    "## Git and GitHub\n",
    "- I have a 500 page book about Git and GitHub! There are lots of nuances and other options I am leaving out\n",
    "- Working with Git alone is not the same as working with Git and GitHub together: Some tasks are easier, some are harder\n",
    "- If you think about the `main` branch on GitHub as the \"real thing,\" and your local copy as scratch paper to work on, it helps you to avoid making common mistakes\n",
    "- It's OK to make mistakes, and if you have a Git/GitHub disaster, we can thankfully use the copies on GitHub to restore your project to a previous version"
   ]
  },
  {
   "cell_type": "markdown",
   "id": "1b19c9da-e1b8-41f9-8462-2670567b6e9b",
   "metadata": {},
   "source": [
    "## You can always just start over\n",
    "\n",
    "![Git jokes!](./src/git_joke_2.png)"
   ]
  }
 ],
 "metadata": {
  "kernelspec": {
   "display_name": "Python 3 (ipykernel)",
   "language": "python",
   "name": "python3"
  },
  "language_info": {
   "codemirror_mode": {
    "name": "ipython",
    "version": 3
   },
   "file_extension": ".py",
   "mimetype": "text/x-python",
   "name": "python",
   "nbconvert_exporter": "python",
   "pygments_lexer": "ipython3",
   "version": "3.11.4"
  }
 },
 "nbformat": 4,
 "nbformat_minor": 5
}
