{
 "cells": [
  {
   "cell_type": "code",
   "execution_count": 5,
   "metadata": {},
   "outputs": [
    {
     "name": "stdout",
     "output_type": "stream",
     "text": [
      "<class 'packageName.moduleName.Mx'>\n"
     ]
    },
    {
     "data": {
      "text/plain": [
       "[31, 66, 30]\n",
       "[34, 80, 42]\n",
       "[63, 109, 28]"
      ]
     },
     "execution_count": 5,
     "metadata": {},
     "output_type": "execute_result"
    }
   ],
   "source": [
    "from packageName.moduleName import Mx\n",
    "\n",
    "#from packageName.moduleName import Mx #  Mx() is now a class in your namespace\n",
    "#from packageName import moduleName # Use moduleName.Mx()\n",
    "#import packageName.moduleName # Use packageName.moduleName.Mx()\n",
    "\n",
    "A = Mx([ [1,3,5], [2,4,6], [-1,4,8]])\n",
    "B = Mx([ [-7,6,4], [-5,12,7], [8,-1,5]])\n",
    "\n",
    "#A = moduleName.Mx(A)\n",
    "#B = moduleName.Mx(B)\n",
    "\n",
    "D = A*B\n",
    "\n",
    "print(type(D))\n",
    "\n",
    "D"
   ]
  },
  {
   "cell_type": "code",
   "execution_count": 6,
   "metadata": {},
   "outputs": [
    {
     "name": "stdout",
     "output_type": "stream",
     "text": [
      "[[31, 66, 30], [34, 80, 42], [63, 109, 28]]\n",
      "<class 'packageName.moduleName.Mx'>\n"
     ]
    },
    {
     "data": {
      "text/plain": [
       "[31, 66, 30]\n",
       "[34, 80, 42]\n",
       "[63, 109, 28]"
      ]
     },
     "execution_count": 6,
     "metadata": {},
     "output_type": "execute_result"
    }
   ],
   "source": [
    "## Let's try importing Mx using a different approach:\n",
    "\n",
    "import packageName.moduleName # Use packageName.moduleName.Mx()\n",
    "\n",
    "A = packageName.moduleName.Mx( [ [1,3,5], [2,4,6], [-1,4,8] ] )\n",
    "B = packageName.moduleName.Mx( [ [-7,6,4], [-5,12,7], [8,-1,5] ] )\n",
    "\n",
    "D = A*B\n",
    "\n",
    "print(D)\n",
    "print(type(D))\n",
    "D\n"
   ]
  }
 ],
 "metadata": {
  "kernelspec": {
   "display_name": "Python 3",
   "language": "python",
   "name": "python3"
  },
  "language_info": {
   "codemirror_mode": {
    "name": "ipython",
    "version": 3
   },
   "file_extension": ".py",
   "mimetype": "text/x-python",
   "name": "python",
   "nbconvert_exporter": "python",
   "pygments_lexer": "ipython3",
   "version": "3.10.12"
  }
 },
 "nbformat": 4,
 "nbformat_minor": 2
}
