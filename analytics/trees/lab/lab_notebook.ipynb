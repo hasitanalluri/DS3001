{
 "cells": [
  {
   "cell_type": "markdown",
   "metadata": {},
   "source": [
    "# Lab: Trees and Model Stability\n",
    "\n",
    "Trees are notorious for being **unstable**: Small changes in the data can lead to noticeable or large changes in the tree. We're going to explore this phenomenon, and a common rebuttal.\n",
    "\n",
    "In the folder for this lab, there are three datasets that we used in class: Divorce, heart failure, and the AirBnB price dataset.\n",
    "\n",
    "1. Pick one of the datasets and appropriately clean it.\n",
    "2. Perform a train-test split for a specific seed (save the seed for reproducibility). Fit a classification/regression tree and a linear model on the training data and evaluate their performance on the test data. Set aside the predictions these models make.\n",
    "3. Repeat step 2 for three to five different seeds (save the seeds for reproducibility). How different are the trees that you get? Your linear model coefficients?. Set aside the predictions these models make.\n",
    "\n",
    "Typically, you would see the trees changing what appears to be a non-trivial amount, while the linear model coefficients don't vary nearly as much. Often, the changes appear substantial. \n",
    "\n",
    "But are they?\n",
    "\n",
    "4. Instead of focusing on the tree or model coefficients, do three things:\n",
    "    1. Make scatterplots of the predicted values on the test set from question 2 against the predicted values for the alternative models from part 3, separately for your trees and linear models. Do they appear reasonably similar?\n",
    "    2. Compute the correlation between your model in part 2 and your alternative models in part 3, separately for your trees and linear models. Are they highly correlated or not?\n",
    "    3. Run a simple linear regression of the predicted values on the test set from the alternative models on the predicted values from question 2, separately for your trees and linear models. Is the intercept close to zero? Is the slope close to 1? Is the $R^2$ close to 1?\n",
    "\n",
    "5. Do linear models appear to have similar coefficients and predictions across train/test splits? Do trees?\n",
    "6. True or false, and explain: \"Even if the models end up having a substantially different appearance, the predictions they generate are often very similar.\""
   ]
  }
 ],
 "metadata": {
  "language_info": {
   "name": "python"
  }
 },
 "nbformat": 4,
 "nbformat_minor": 2
}
