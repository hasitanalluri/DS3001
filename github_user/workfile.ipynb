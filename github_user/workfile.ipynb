{
 "cells": [
  {
   "cell_type": "markdown",
   "id": "2cb35f22-4967-4c04-90d8-b03a066052f9",
   "metadata": {},
   "source": [
    "## This is a file of fake work\n",
    "- We're going to pretend this is something for our project\n",
    "- We'll edit this file and push it back and forth to GitHub to see Git/GitHub in action"
   ]
  },
  {
   "cell_type": "markdown",
   "id": "8ff7e99a-8e31-45d5-820e-c5980b2647f0",
   "metadata": {},
   "source": [
    "## Here is my work\n",
    "- Incredible data science\n",
    "- I want this to make it back to the repo on GitHub.com"
   ]
  },
  {
   "cell_type": "markdown",
   "id": "4455a17f-1874-4071-bbb7-35a5b76a4b7c",
   "metadata": {},
   "source": [
    "## 2024, The Year of Dread\n",
    "- Don't buy individual stocks, buy Exchange Traded Funds (ETF's)"
   ]
  },
  {
   "cell_type": "markdown",
   "id": "2b3613ac-e6cc-450d-82f4-c111606f0717",
   "metadata": {
    "tags": []
   },
   "source": [
    "## Optimism is Good\n",
    "Everything might be OK!"
   ]
  },
  {
   "cell_type": "markdown",
   "id": "32c6a03a-7188-4cbf-a170-3c941c55fc42",
   "metadata": {},
   "source": [
    "## Probably now is the time to buy semiconductor index funds and ETF's"
   ]
  }
 ],
 "metadata": {
  "kernelspec": {
   "display_name": "Python 3 (ipykernel)",
   "language": "python",
   "name": "python3"
  },
  "language_info": {
   "codemirror_mode": {
    "name": "ipython",
    "version": 3
   },
   "file_extension": ".py",
   "mimetype": "text/x-python",
   "name": "python",
   "nbconvert_exporter": "python",
   "pygments_lexer": "ipython3",
   "version": "3.11.4"
  }
 },
 "nbformat": 4,
 "nbformat_minor": 5
}
