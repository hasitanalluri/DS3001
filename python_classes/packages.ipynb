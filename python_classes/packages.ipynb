{
 "cells": [
  {
   "cell_type": "markdown",
   "metadata": {},
   "source": [
    "# Classes and Packages\n",
    "\n",
    "### `! git clone https://github.com/ds4e/programming`"
   ]
  },
  {
   "cell_type": "markdown",
   "metadata": {},
   "source": [
    "## Classes and Packages... by way of Matrices\n",
    "- We're going to review the basics of classes, partly because it will help you understand what happens when you import packages: They're just a directory with instructions about how to load classes into your computing environment\n",
    "- A matrix class objected is created by passing in\n",
    " a list of lists, and the class functions are then things like matrix multiplication or RREF\n",
    "- An $ N \\times K $ object is a matrix, an $ N \\times 1$ object is a vector, and a $ 1 \\times 1 $ object is a scalar: These are all generally called **tensors**, and the **rank** of a tensor is how many dimensions it has (scalar is 0 rank, vector is 1 rank, matrix is 2 rank). I'm going to call everything an $N \\times K$ matrix.\n",
    "- The goal is to introduce you to thinking about classes, error handling, and importing packages a bit more thoughtfully\n",
    "- If you haven't watched the linear algebra video, go do that so you can understand what is happening\n",
    "- You should use NumPy, not what we do today. But what we do today will help you understand NumPy much better."
   ]
  },
  {
   "cell_type": "code",
   "execution_count": 1,
   "metadata": {},
   "outputs": [
    {
     "name": "stdout",
     "output_type": "stream",
     "text": [
      "[[1, 3, 5], [2, 4, 6], [-1, 4, 8]]\n"
     ]
    }
   ],
   "source": [
    "A = [ [1,3,5], [2,4,6], [-1,4,8]]\n",
    "print(A)"
   ]
  },
  {
   "cell_type": "markdown",
   "metadata": {},
   "source": [
    "## Selecting Elements of the Matrix\n",
    "- We're representing the matrix as a list of lists\n",
    "- How do I select the $k$-th row of the matrix, with $k=0$ corresponding to the first row? `A[k]`\n",
    "- How do I select the $j$-th column of the $k$-th row of the matrix? `A[k][j]`\n",
    "- If the matrix were a higher-dimensional tensor, we'd have something like `A[k][j][l][m][n]` and need rules about how to algebraically manipulate higher-dimensional objects"
   ]
  },
  {
   "cell_type": "code",
   "execution_count": 2,
   "metadata": {},
   "outputs": [
    {
     "data": {
      "text/plain": [
       "5"
      ]
     },
     "execution_count": 2,
     "metadata": {},
     "output_type": "execute_result"
    }
   ],
   "source": [
    "A = [ [1,3,5]]\n",
    "A[0][2]"
   ]
  },
  {
   "cell_type": "markdown",
   "metadata": {},
   "source": [
    "- You can use this basic idea for general multi-dimensional arrays and tensors:"
   ]
  },
  {
   "cell_type": "code",
   "execution_count": 3,
   "metadata": {},
   "outputs": [
    {
     "name": "stdout",
     "output_type": "stream",
     "text": [
      "[[[1, 3], [2, 4], [-1, 4]], [[2, -5], [8, 11], [-4, 2]], [[22, 16], [7, 11], [-32, 91]]]\n",
      "[[1, 3], [2, 4], [-1, 4]]\n",
      "[2, 4]\n",
      "4\n"
     ]
    }
   ],
   "source": [
    "A = [ [[1,3], [2,4], [-1,4]], \n",
    "     [[2,-5], [8,11], [-4,2]], \n",
    "     [[22,16], [7,11], [-32,91]] ]\n",
    "print(A) # Rank 3 tensor\n",
    "print(A[0]) # Rank 2 tensor: Matrix\n",
    "print(A[0][1]) # Rank 1 tensor: Vector\n",
    "print(A[0][1][1]) # Rank 0 tensor: Scalar"
   ]
  },
  {
   "cell_type": "markdown",
   "metadata": {},
   "source": [
    "- The problem, such as it is, is that we'd have to be much more careful in writing our algorithms to accommodate any rank of the tensor (e.g. matrix multiplication)\n",
    "- This is why packages like TensorFlow and PyTorch and Keras are popular: I don't want to do what I just described, I'd much rather someone else do it in a high quality and robust way so I can focus on my application"
   ]
  },
  {
   "cell_type": "markdown",
   "metadata": {},
   "source": [
    "## Downsides of this approach\n",
    "- A scalar is a somewhat verbose `s = [[3]]`\n",
    "- A vector is a also a bit verbose: `v = [[1,3,5]]`\n",
    "- We won't be extending the matrix class past two dimensions to higher rank tensors\n",
    "- It won't be computationally efficient, like NumPy\n",
    "- Some things, like computing a transpose, require a bit more thought than they feel like they should\n",
    "- Advanced matrix decompositions won't be available, obviously"
   ]
  },
  {
   "cell_type": "markdown",
   "metadata": {},
   "source": [
    "## What do we want to implement?\n",
    "- It should be easy to get the number of rows and number of columns\n",
    "- We should be able to transpose the matrix\n",
    "- We should be able to do scalar and matrix multiplication\n",
    "- Row reduction to echelon form would be nice\n",
    "- If we do RREF then why not solve systems?\n",
    "- If we solve systems, why not implement some sort of inverse?\n",
    "- If we can do matrix inverses, why not decompositions?\n",
    "- This is called feature creep: The tendency for projects to get out of control and never reach completion"
   ]
  },
  {
   "cell_type": "markdown",
   "metadata": {},
   "source": [
    "## A Class\n",
    "- Let's take a quick look at the matrix class I threw together:"
   ]
  },
  {
   "cell_type": "code",
   "execution_count": 24,
   "metadata": {},
   "outputs": [],
   "source": [
    "import random # To generate random matrices\n",
    "\n",
    "class Mx:\n",
    "    \"\"\" Basic version of a matrix class. \"\"\"\n",
    "\n",
    "    ############ Constructor:\n",
    "    \n",
    "    def __init__(self, vals, rows = 1, cols = 1):\n",
    "        if vals is None: # If no values are provided...\n",
    "            self.rows = rows\n",
    "            self.cols = cols\n",
    "            self.m = [ [0]*cols for i in range(rows)] # Actual values\n",
    "        else: # If a list of lists is passed in..\n",
    "            self.rows = len(vals)\n",
    "            self.cols = len(vals[0])\n",
    "            self.m = vals\n",
    "\n",
    "    ############ Class methods:\n",
    "\n",
    "    def randInt(self,lower=-1,upper=1):\n",
    "        for i in range(self.rows):\n",
    "            for j in range(self.cols):\n",
    "                self.m[i][j] = random.randint(lower,upper)\n",
    "\n",
    "    def randFloat(self,lower=-1,upper=1):\n",
    "        for i in range(self.rows):\n",
    "            for j in range(self.cols):\n",
    "                self.m[i][j] = random.uniform(lower,upper)\n",
    "\n",
    "    def eye(self):\n",
    "        self.m = [ [0]*self.cols for i in range(self.rows)]\n",
    "        for i in range(self.rows):\n",
    "                self.m[i][i] = 1\n",
    "\n",
    "\n",
    "    ############ Class Functions:\n",
    "\n",
    "    def t(A):\n",
    "        At = Mx( vals=None, rows=A.cols, cols=A.rows )\n",
    "        for i in range(A.rows):\n",
    "            for j in range(A.cols):\n",
    "                At.m[j][i] = A.m[i][j]\n",
    "        return At\n",
    "\n",
    "    def add(A,B):\n",
    "        rws_A = A.rows\n",
    "        cls_B = B.cols\n",
    "        C = []\n",
    "        for i in range(rws_A):\n",
    "                C.append( [ A.m[i][j] + B.m[i][j] for j in range(cls_B)] )\n",
    "        C = Mx(C)\n",
    "        return C\n",
    "\n",
    "    def sub(A,B):\n",
    "        rws_A = A.rows\n",
    "        cls_B = B.cols\n",
    "        C = []\n",
    "        for i in range(rws_A):\n",
    "                C.append( [ A.m[i][j] - B.m[i][j] for j in range(cls_B)] )\n",
    "        C = Mx(C)\n",
    "        return C\n",
    "\n",
    "    def mat_mul(A,B):\n",
    "        rws_A = A.rows\n",
    "        cls_A = A.cols\n",
    "        rws_B = B.rows\n",
    "        C = []\n",
    "        for i in range(rws_A):\n",
    "            ith_row = []\n",
    "            for j in range(cls_A):\n",
    "                result = [ A.m[i][k]*B.m[j][k] for k in range(rws_B) ]\n",
    "                ith_row.append( sum(result) )\n",
    "            C.append(ith_row)\n",
    "        C = Mx(C)\n",
    "        return C\n",
    "    \n",
    "    def scalar_mul(s,A):\n",
    "        C = []\n",
    "        for i in range(A.rows):\n",
    "            C.append([ s*A.m[i][j] for j in range(A.cols)])\n",
    "        C = Mx(C)\n",
    "        return C\n",
    "    \n",
    "    # def solve(A,b):\n",
    "    #     return x\n",
    "\n",
    "    ############ Operator overloading and interpreter cruft:\n",
    "\n",
    "    def __add__(A, B): # +\n",
    "        return Mx.add(A,B)\n",
    "    \n",
    "    def __sub__(A, B): # -\n",
    "        return Mx.sub(A,B)\n",
    "\n",
    "    def __invert__(A): # ~\n",
    "        return Mx.t(A)\n",
    "    \n",
    "    def __mul__(A, B): # *\n",
    "        A_is_mx = isinstance(A,Mx)\n",
    "        B_is_mx = isinstance(B,Mx)\n",
    "        if A_is_mx and B_is_mx:\n",
    "            y = Mx.mat_mul( A, B )\n",
    "        elif A_is_mx and not B_is_mx:\n",
    "            y = Mx.scalar_mul( B, A )\n",
    "        elif not A_is_mx and B_is_mx:\n",
    "            y = Mx.scalar_mul( A, B )\n",
    "        else:\n",
    "            y = A*B\n",
    "        return y\n",
    "\n",
    "#    def __truediv__(A,b): # b/A\n",
    "#        return Mx.solve(A,b)\n",
    "\n",
    "    def __str__(self):\n",
    "        # output = ''\n",
    "        # for i in range(self.rows):\n",
    "        #     output = output+str(self.m[i])+'\\n'\n",
    "        # return output\n",
    "        return str(self.m)\n",
    "\n",
    "    def __repr__(self):\n",
    "        output = ''\n",
    "        for i in range(self.rows):\n",
    "            output = output+str(self.m[i])+'\\n'\n",
    "        return output\n"
   ]
  },
  {
   "cell_type": "markdown",
   "metadata": {},
   "source": [
    "Does it \"work\"?"
   ]
  },
  {
   "cell_type": "code",
   "execution_count": 25,
   "metadata": {},
   "outputs": [
    {
     "name": "stdout",
     "output_type": "stream",
     "text": [
      "[[1, 3, 5], [2, 4, 6], [-1, 4, 8]]\n",
      "[[-7, 6, 4], [-5, 12, 7], [8, -1, 5]]\n"
     ]
    },
    {
     "data": {
      "text/plain": [
       "[31, 66, 30]\n",
       "[34, 80, 42]\n",
       "[63, 109, 28]"
      ]
     },
     "execution_count": 25,
     "metadata": {},
     "output_type": "execute_result"
    }
   ],
   "source": [
    "A = [ [1,3,5], [2,4,6], [-1,4,8]]\n",
    "B = [ [-7,6,4], [-5,12,7], [8,-1,5]]\n",
    "\n",
    "A = Mx(A)\n",
    "B = Mx(B)\n",
    "\n",
    "print(A)\n",
    "print(B)\n",
    "\n",
    "D = A*B\n",
    "\n",
    "D"
   ]
  },
  {
   "cell_type": "code",
   "execution_count": 26,
   "metadata": {},
   "outputs": [
    {
     "data": {
      "text/plain": [
       "[5, 15, 25]\n",
       "[10, 20, 30]\n",
       "[-5, 20, 40]"
      ]
     },
     "execution_count": 26,
     "metadata": {},
     "output_type": "execute_result"
    }
   ],
   "source": [
    "A*5"
   ]
  },
  {
   "cell_type": "code",
   "execution_count": 28,
   "metadata": {},
   "outputs": [
    {
     "name": "stdout",
     "output_type": "stream",
     "text": [
      "[[31, 66, 30], [34, 80, 42], [63, 109, 28]]\n"
     ]
    },
    {
     "data": {
      "text/plain": [
       "[31, 34, 63]\n",
       "[66, 80, 109]\n",
       "[30, 42, 28]"
      ]
     },
     "execution_count": 28,
     "metadata": {},
     "output_type": "execute_result"
    }
   ],
   "source": [
    "print(D)\n",
    "~D"
   ]
  },
  {
   "cell_type": "code",
   "execution_count": 29,
   "metadata": {},
   "outputs": [
    {
     "data": {
      "text/plain": [
       "[-5.6472996100835715, 1.2516804313060383, 5.598511841314192]\n",
       "[-8.05342194297056, -5.688805135107371, 4.14277060506377]\n",
       "[6.423034236604259, 6.56707791987856, -7.671883152986821]"
      ]
     },
     "execution_count": 29,
     "metadata": {},
     "output_type": "execute_result"
    }
   ],
   "source": [
    "D.randFloat()\n",
    "D"
   ]
  },
  {
   "cell_type": "code",
   "execution_count": 30,
   "metadata": {},
   "outputs": [
    {
     "data": {
      "text/plain": [
       "[1, 0, 0, 0]\n",
       "[0, 1, 0, 0]\n",
       "[0, 0, 1, 0]\n",
       "[0, 0, 0, 1]"
      ]
     },
     "execution_count": 30,
     "metadata": {},
     "output_type": "execute_result"
    }
   ],
   "source": [
    "I = Mx(vals = None, rows=4,cols=4)\n",
    "I.eye()\n",
    "I"
   ]
  },
  {
   "cell_type": "markdown",
   "metadata": {},
   "source": [
    "## Key Pieces\n",
    "- The `__init__(self,...)` function describes how an instance is initialized or constructed. Every class has this function.\n",
    "- The class methods refer to `self` and the class functions do not. \n",
    "    - When you include `self` as an argument, you can use `A.fcn()` to apply the function to object `A`. \n",
    "    - If you do not include `self`, you instead use `class.fcn(A,B)` to apply the function to class instances `A` and `B`. \n",
    "    - So, for example, `A.t()` takes the transpose of `A`, while `Mx.add(A,B)` adds `A` and `B` together.\n",
    "- The Operator Overloading sections shows you how to make your class \"fit in\" to the Python computing environment. You can bind methods to the `+`, `-`, `*` and `/` operators, among others, to tell Python how to do computations with your new class.\n",
    "    - The `*` case is interesting: I want `*` to handle scalar and matrix multiplication correctly. All of the cases are trying to make that work, and I did not quite succeed.\n",
    "- The `__repr__(self)` function describes what happens when users simply type the name of a class instance into the interpreter. Here, I chose to print the matrix. Sometimes, users don't understand that the object itself is not just the repr output. It really helps to understand this.\n",
    "- The `__print__(self)` function describes what happens when you type `print(A)`: This is different from `repr`, and explains why the output looks different in notebooks or the interpreter depending on what you're doing."
   ]
  },
  {
   "cell_type": "markdown",
   "metadata": {},
   "source": [
    "## Packages and Modules\n",
    "- How do we make this work reusable, like the packages we pip and import?\n",
    "- In this directory, there's a folder called `packageName`. Inside it, there are two files: `__init__.py` and `moduleName.py`\n",
    "    - The `__init__.py` file alerts Python that this folder a package, and gives instructions about how to import its contents. Ours is empty, which is fine. More generally, you can given instructions to the Python interpreter about the package should be imported. For example, if you add `__all__ = [\"something1\", \"something2\"]` to `__init__.py`, then `from packageName import *` only imports the something's that are listed. \n",
    "    - The `moduleName.py` file includes the class, exactly as above. \n",
    "- So now we can reuse the code from our package, as follows:\n",
    "    - `from packageName.moduleName import Mx`: `Mx()` is now a class in your namespace\n",
    "    - `from packageName import moduleName`: Use `moduleName.Mx()`\n",
    "    - `import packageName.moduleName`: Use `packageName.moduleName.Mx()`\n",
    "- This also shows you how different import statements require you to interact with the module and classes inside it differently"
   ]
  }
 ],
 "metadata": {
  "kernelspec": {
   "display_name": "Python 3",
   "language": "python",
   "name": "python3"
  },
  "language_info": {
   "codemirror_mode": {
    "name": "ipython",
    "version": 3
   },
   "file_extension": ".py",
   "mimetype": "text/x-python",
   "name": "python",
   "nbconvert_exporter": "python",
   "pygments_lexer": "ipython3",
   "version": "3.10.12"
  }
 },
 "nbformat": 4,
 "nbformat_minor": 2
}
